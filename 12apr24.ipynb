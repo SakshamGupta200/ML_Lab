{
 "cells": [
  {
   "cell_type": "code",
   "execution_count": 9,
   "id": "f33f45b0",
   "metadata": {},
   "outputs": [],
   "source": [
    "import numpy as np\n",
    "import pandas as pd\n",
    "import statsmodels.api as sm\n"
   ]
  },
  {
   "cell_type": "code",
   "execution_count": 3,
   "id": "13166d51",
   "metadata": {},
   "outputs": [],
   "source": [
    "data = {\n",
    "    'X1':[1,2,3,4,5],\n",
    "    'X2':[2,3,4,5,6],\n",
    "    'X3':[3,4,5,6,7],\n",
    "    'Y':[10,20,30,40,50]\n",
    "}\n",
    "df = pd.DataFrame(data)"
   ]
  },
  {
   "cell_type": "code",
   "execution_count": 4,
   "id": "8c2522c5",
   "metadata": {},
   "outputs": [],
   "source": [
    "X = df[['X1','X2','X3']]\n",
    "Y = df['Y']"
   ]
  },
  {
   "cell_type": "code",
   "execution_count": 5,
   "id": "00dd420c",
   "metadata": {},
   "outputs": [
    {
     "name": "stdout",
     "output_type": "stream",
     "text": [
      "   X1  X2  X3   Y\n",
      "0   1   2   3  10\n",
      "1   2   3   4  20\n",
      "2   3   4   5  30\n",
      "3   4   5   6  40\n",
      "4   5   6   7  50\n"
     ]
    }
   ],
   "source": [
    "print(df)"
   ]
  },
  {
   "cell_type": "code",
   "execution_count": 6,
   "id": "7a077b69",
   "metadata": {},
   "outputs": [
    {
     "name": "stdout",
     "output_type": "stream",
     "text": [
      "   X1  X2  X3\n",
      "0   1   2   3\n",
      "1   2   3   4\n",
      "2   3   4   5\n",
      "3   4   5   6\n",
      "4   5   6   7\n"
     ]
    }
   ],
   "source": [
    "print(X)"
   ]
  },
  {
   "cell_type": "code",
   "execution_count": 7,
   "id": "626160e3",
   "metadata": {},
   "outputs": [
    {
     "name": "stdout",
     "output_type": "stream",
     "text": [
      "0    10\n",
      "1    20\n",
      "2    30\n",
      "3    40\n",
      "4    50\n",
      "Name: Y, dtype: int64\n"
     ]
    }
   ],
   "source": [
    "print(Y)"
   ]
  },
  {
   "cell_type": "code",
   "execution_count": 12,
   "id": "d69b4566",
   "metadata": {},
   "outputs": [],
   "source": [
    "X = sm.add_constant(X)\n"
   ]
  },
  {
   "cell_type": "code",
   "execution_count": 13,
   "id": "109852a5",
   "metadata": {},
   "outputs": [
    {
     "name": "stdout",
     "output_type": "stream",
     "text": [
      "   const  X1  X2  X3\n",
      "0    1.0   1   2   3\n",
      "1    1.0   2   3   4\n",
      "2    1.0   3   4   5\n",
      "3    1.0   4   5   6\n",
      "4    1.0   5   6   7\n"
     ]
    }
   ],
   "source": [
    "print(X)"
   ]
  },
  {
   "cell_type": "code",
   "execution_count": 14,
   "id": "6ed32310",
   "metadata": {},
   "outputs": [
    {
     "name": "stdout",
     "output_type": "stream",
     "text": [
      "                            OLS Regression Results                            \n",
      "==============================================================================\n",
      "Dep. Variable:                      Y   R-squared:                       1.000\n",
      "Model:                            OLS   Adj. R-squared:                  1.000\n",
      "Method:                 Least Squares   F-statistic:                 5.044e+29\n",
      "Date:                Fri, 12 Apr 2024   Prob (F-statistic):           6.16e-45\n",
      "Time:                        16:11:39   Log-Likelihood:                 147.90\n",
      "No. Observations:                   5   AIC:                            -291.8\n",
      "Df Residuals:                       3   BIC:                            -292.6\n",
      "Df Model:                           1                                         \n",
      "Covariance Type:            nonrobust                                         \n",
      "==============================================================================\n",
      "                 coef    std err          t      P>|t|      [0.025      0.975]\n",
      "------------------------------------------------------------------------------\n",
      "const         -3.3333   1.99e-14  -1.67e+14      0.000      -3.333      -3.333\n",
      "X1             6.6667   2.44e-14   2.73e+14      0.000       6.667       6.667\n",
      "X2             3.3333   4.69e-15    7.1e+14      0.000       3.333       3.333\n",
      "X3          1.199e-14   1.56e-14      0.770      0.497   -3.76e-14    6.15e-14\n",
      "==============================================================================\n",
      "Omnibus:                          nan   Durbin-Watson:                   0.005\n",
      "Prob(Omnibus):                    nan   Jarque-Bera (JB):                0.770\n",
      "Skew:                           0.844   Prob(JB):                        0.680\n",
      "Kurtosis:                       2.078   Cond. No.                     6.12e+17\n",
      "==============================================================================\n",
      "\n",
      "Notes:\n",
      "[1] Standard Errors assume that the covariance matrix of the errors is correctly specified.\n",
      "[2] The smallest eigenvalue is 7.58e-34. This might indicate that there are\n",
      "strong multicollinearity problems or that the design matrix is singular.\n"
     ]
    },
    {
     "name": "stderr",
     "output_type": "stream",
     "text": [
      "C:\\Users\\student\\anaconda3\\lib\\site-packages\\statsmodels\\stats\\stattools.py:74: ValueWarning: omni_normtest is not valid with less than 8 observations; 5 samples were given.\n",
      "  warn(\"omni_normtest is not valid with less than 8 observations; %i \"\n"
     ]
    }
   ],
   "source": [
    "model = sm.OLS(Y , X).fit()\n",
    "print(model.summary())"
   ]
  },
  {
   "cell_type": "code",
   "execution_count": null,
   "id": "1c5aef10",
   "metadata": {},
   "outputs": [],
   "source": []
  }
 ],
 "metadata": {
  "kernelspec": {
   "display_name": "Python 3",
   "language": "python",
   "name": "python3"
  },
  "language_info": {
   "codemirror_mode": {
    "name": "ipython",
    "version": 3
   },
   "file_extension": ".py",
   "mimetype": "text/x-python",
   "name": "python",
   "nbconvert_exporter": "python",
   "pygments_lexer": "ipython3",
   "version": "3.8.8"
  }
 },
 "nbformat": 4,
 "nbformat_minor": 5
}
