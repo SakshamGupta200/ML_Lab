{
 "cells": [
  {
   "cell_type": "code",
   "execution_count": 5,
   "id": "4952e04a",
   "metadata": {},
   "outputs": [],
   "source": [
    "# Importing necessary libraries\n",
    "import numpy as np\n",
    "import pandas as pd\n",
    "import statsmodels.api as sm\n",
    "# from sklearn.datasets import make_regression\n",
    "# from sklearn.model_selection import train_test_split\n",
    "# from sklearn.linear_model import LinearRegression\n",
    "# from sklearn.metrics import mean_squared_error"
   ]
  },
  {
   "cell_type": "code",
   "execution_count": 9,
   "id": "e6d20e37",
   "metadata": {},
   "outputs": [
    {
     "data": {
      "text/html": [
       "<div>\n",
       "<style scoped>\n",
       "    .dataframe tbody tr th:only-of-type {\n",
       "        vertical-align: middle;\n",
       "    }\n",
       "\n",
       "    .dataframe tbody tr th {\n",
       "        vertical-align: top;\n",
       "    }\n",
       "\n",
       "    .dataframe thead th {\n",
       "        text-align: right;\n",
       "    }\n",
       "</style>\n",
       "<table border=\"1\" class=\"dataframe\">\n",
       "  <thead>\n",
       "    <tr style=\"text-align: right;\">\n",
       "      <th></th>\n",
       "      <th>x1</th>\n",
       "      <th>x2</th>\n",
       "      <th>x3</th>\n",
       "      <th>y</th>\n",
       "    </tr>\n",
       "  </thead>\n",
       "  <tbody>\n",
       "    <tr>\n",
       "      <th>0</th>\n",
       "      <td>1</td>\n",
       "      <td>1</td>\n",
       "      <td>1</td>\n",
       "      <td>10</td>\n",
       "    </tr>\n",
       "    <tr>\n",
       "      <th>1</th>\n",
       "      <td>2</td>\n",
       "      <td>2</td>\n",
       "      <td>2</td>\n",
       "      <td>20</td>\n",
       "    </tr>\n",
       "    <tr>\n",
       "      <th>2</th>\n",
       "      <td>3</td>\n",
       "      <td>3</td>\n",
       "      <td>3</td>\n",
       "      <td>30</td>\n",
       "    </tr>\n",
       "    <tr>\n",
       "      <th>3</th>\n",
       "      <td>4</td>\n",
       "      <td>4</td>\n",
       "      <td>4</td>\n",
       "      <td>40</td>\n",
       "    </tr>\n",
       "    <tr>\n",
       "      <th>4</th>\n",
       "      <td>5</td>\n",
       "      <td>5</td>\n",
       "      <td>5</td>\n",
       "      <td>50</td>\n",
       "    </tr>\n",
       "  </tbody>\n",
       "</table>\n",
       "</div>"
      ],
      "text/plain": [
       "   x1  x2  x3   y\n",
       "0   1   1   1  10\n",
       "1   2   2   2  20\n",
       "2   3   3   3  30\n",
       "3   4   4   4  40\n",
       "4   5   5   5  50"
      ]
     },
     "execution_count": 9,
     "metadata": {},
     "output_type": "execute_result"
    }
   ],
   "source": [
    "data = {\n",
    "    'x1':[1,2,3,4,5],\n",
    "    'x2':[1,2,3,4,5],\n",
    "    'x3':[1,2,3,4,5],\n",
    "    'y':[10,20,30,40,50]\n",
    "}\n",
    "\n",
    "df = pd.DataFrame(data)\n",
    "df.head()"
   ]
  },
  {
   "cell_type": "code",
   "execution_count": 10,
   "id": "c3382173",
   "metadata": {},
   "outputs": [],
   "source": [
    "# # Generating sample dataset\n",
    "# X, y = make_regression(n_samples=100, n_features=3, noise=0.1, random_state=42)\n",
    "\n",
    "# # Splitting the dataset into training and testing sets\n",
    "# X_train, X_test, y_train, y_test = train_test_split(X, y, test_size=0.2, random_state=42)\n",
    "\n",
    "# # Creating and fitting the Multiple Linear Regression model\n",
    "# model = LinearRegression()\n",
    "# model.fit(X_train, y_train)\n",
    "\n",
    "# # Making predictions\n",
    "# y_pred_train = model.predict(X_train)\n",
    "# y_pred_test = model.predict(X_test)\n",
    "\n",
    "# # Evaluating the model\n",
    "# train_rmse = np.sqrt(mean_squared_error(y_train, y_pred_train))\n",
    "# test_rmse = np.sqrt(mean_squared_error(y_test, y_pred_test))\n",
    "\n",
    "# print(\"Train RMSE:\", train_rmse)\n",
    "# print(\"Test RMSE:\", test_rmse)\n",
    "\n",
    "# # Coefficients and Intercept\n",
    "# print(\"Coefficients:\", model.coef_)\n",
    "# print(\"Intercept:\", model.intercept_)\n"
   ]
  },
  {
   "cell_type": "code",
   "execution_count": 11,
   "id": "98a16647",
   "metadata": {},
   "outputs": [
    {
     "name": "stdout",
     "output_type": "stream",
     "text": [
      "   x1  x2  x3\n",
      "0   1   1   1\n",
      "1   2   2   2\n",
      "2   3   3   3\n",
      "3   4   4   4\n",
      "4   5   5   5\n",
      "0    10\n",
      "1    20\n",
      "2    30\n",
      "3    40\n",
      "4    50\n",
      "Name: y, dtype: int64\n"
     ]
    }
   ],
   "source": [
    "X = df[['x1','x2','x3']]\n",
    "Y = df['y']\n",
    "print(X)\n",
    "print(Y)"
   ]
  },
  {
   "cell_type": "code",
   "execution_count": 14,
   "id": "642eff4f",
   "metadata": {},
   "outputs": [
    {
     "name": "stdout",
     "output_type": "stream",
     "text": [
      "   const  x1  x2  x3\n",
      "0    1.0   1   1   1\n",
      "1    1.0   2   2   2\n",
      "2    1.0   3   3   3\n",
      "3    1.0   4   4   4\n",
      "4    1.0   5   5   5\n"
     ]
    }
   ],
   "source": [
    "X = sm.add_constant(X)\n",
    "print(X)"
   ]
  },
  {
   "cell_type": "code",
   "execution_count": 15,
   "id": "d45a2817",
   "metadata": {},
   "outputs": [
    {
     "name": "stdout",
     "output_type": "stream",
     "text": [
      "<statsmodels.regression.linear_model.RegressionResultsWrapper object at 0x000001E31102A450>\n"
     ]
    }
   ],
   "source": [
    "model = sm.OLS(Y,X).fit()\n",
    "print(model)"
   ]
  },
  {
   "cell_type": "code",
   "execution_count": 16,
   "id": "f59c5d57",
   "metadata": {},
   "outputs": [
    {
     "name": "stdout",
     "output_type": "stream",
     "text": [
      "                            OLS Regression Results                            \n",
      "==============================================================================\n",
      "Dep. Variable:                      y   R-squared:                       1.000\n",
      "Model:                            OLS   Adj. R-squared:                  1.000\n",
      "Method:                 Least Squares   F-statistic:                 1.235e+31\n",
      "Date:                Sun, 21 Apr 2024   Prob (F-statistic):           5.08e-47\n",
      "Time:                        15:43:18   Log-Likelihood:                 155.89\n",
      "No. Observations:                   5   AIC:                            -307.8\n",
      "Df Residuals:                       3   BIC:                            -308.6\n",
      "Df Model:                           1                                         \n",
      "Covariance Type:            nonrobust                                         \n",
      "==============================================================================\n",
      "                 coef    std err          t      P>|t|      [0.025      0.975]\n",
      "------------------------------------------------------------------------------\n",
      "const       9.326e-15   9.44e-15      0.988      0.396   -2.07e-14    3.94e-14\n",
      "x1             3.3333   9.49e-16   3.51e+15      0.000       3.333       3.333\n",
      "x2             3.3333   9.49e-16   3.51e+15      0.000       3.333       3.333\n",
      "x3             3.3333   9.49e-16   3.51e+15      0.000       3.333       3.333\n",
      "==============================================================================\n",
      "Omnibus:                          nan   Durbin-Watson:                   0.117\n",
      "Prob(Omnibus):                    nan   Jarque-Bera (JB):                0.642\n",
      "Skew:                           0.868   Prob(JB):                        0.725\n",
      "Kurtosis:                       2.729   Cond. No.                     1.17e+34\n",
      "==============================================================================\n",
      "\n",
      "Notes:\n",
      "[1] Standard Errors assume that the covariance matrix of the errors is correctly specified.\n",
      "[2] The smallest eigenvalue is 1.23e-66. This might indicate that there are\n",
      "strong multicollinearity problems or that the design matrix is singular.\n"
     ]
    },
    {
     "name": "stderr",
     "output_type": "stream",
     "text": [
      "C:\\Users\\mailm\\anaconda3\\Lib\\site-packages\\statsmodels\\stats\\stattools.py:74: ValueWarning: omni_normtest is not valid with less than 8 observations; 5 samples were given.\n",
      "  warn(\"omni_normtest is not valid with less than 8 observations; %i \"\n"
     ]
    }
   ],
   "source": [
    "print(model.summary())"
   ]
  },
  {
   "cell_type": "code",
   "execution_count": null,
   "id": "b74f51c5",
   "metadata": {},
   "outputs": [],
   "source": []
  }
 ],
 "metadata": {
  "kernelspec": {
   "display_name": "Python 3 (ipykernel)",
   "language": "python",
   "name": "python3"
  },
  "language_info": {
   "codemirror_mode": {
    "name": "ipython",
    "version": 3
   },
   "file_extension": ".py",
   "mimetype": "text/x-python",
   "name": "python",
   "nbconvert_exporter": "python",
   "pygments_lexer": "ipython3",
   "version": "3.11.5"
  }
 },
 "nbformat": 4,
 "nbformat_minor": 5
}
