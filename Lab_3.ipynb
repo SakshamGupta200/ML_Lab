{
 "cells": [
  {
   "cell_type": "code",
   "execution_count": 4,
   "id": "106d6b48",
   "metadata": {},
   "outputs": [
    {
     "name": "stdout",
     "output_type": "stream",
     "text": [
      "Original data :  [10, 20, 30, 40, 50]\n",
      "Normalized Data : [0.0, 0.25, 0.5, 0.75, 1.0]\n"
     ]
    }
   ],
   "source": [
    "def min_max_narmalization(data):\n",
    "    min_val = min(data)\n",
    "    max_val = max(data)\n",
    "    normalized_data = [(x -min_val)/(max_val - min_val) for x in data]\n",
    "    return normalized_data\n",
    "\n",
    "data = [10,20,30,40,50]\n",
    "print(\"Original data : \", data)\n",
    "normalize_data =  min_max_narmalization(data)\n",
    "print(\"Normalized Data :\", normalize_data)"
   ]
  },
  {
   "cell_type": "markdown",
   "id": "87dc53e8",
   "metadata": {},
   "source": [
    "## Question 1"
   ]
  },
  {
   "cell_type": "code",
   "execution_count": 9,
   "id": "789a93d4",
   "metadata": {},
   "outputs": [
    {
     "name": "stdout",
     "output_type": "stream",
     "text": [
      "Original data :  [60, 70, 80, 90, 100]\n",
      "Normalized Data : [0.0, 0.25, 0.5, 0.75, 1.0]\n"
     ]
    }
   ],
   "source": [
    "def min_max_narmalization1(data):\n",
    "    min_val = min(data)\n",
    "    max_val = max(data)\n",
    "    normalized_data = [(x - min_val)/(max_val - min_val) for x in data]\n",
    "    return normalized_data\n",
    "\n",
    "data = [60,70,80,90,100]\n",
    "print(\"Original data : \", data)\n",
    "normalize_data =  min_max_narmalization1(data)\n",
    "print(\"Normalized Data :\", normalize_data)"
   ]
  },
  {
   "cell_type": "markdown",
   "id": "b7ca61fc",
   "metadata": {},
   "source": [
    "## Question 2"
   ]
  },
  {
   "cell_type": "code",
   "execution_count": 7,
   "id": "46b8ccd1",
   "metadata": {},
   "outputs": [
    {
     "name": "stdout",
     "output_type": "stream",
     "text": [
      "Original data :  [25, 30, 35, 40, 45]\n",
      "Normalized Data : [0.0, 0.25, 0.5, 0.75, 1.0]\n"
     ]
    }
   ],
   "source": [
    "def min_max_narmalization(data):\n",
    "    min_val = min(data)\n",
    "    max_val = max(data)\n",
    "    normalized_data = [(x -min_val)/(max_val - min_val) for x in data]\n",
    "    return normalized_data\n",
    "\n",
    "data = [25,30,35,40,45]\n",
    "print(\"Original data : \", data)\n",
    "normalize_data =  min_max_narmalization(data)\n",
    "print(\"Normalized Data :\", normalize_data)"
   ]
  },
  {
   "cell_type": "code",
   "execution_count": 10,
   "id": "fd657cb3",
   "metadata": {},
   "outputs": [
    {
     "name": "stdout",
     "output_type": "stream",
     "text": [
      "Original data :  350000 100000 1000000\n",
      "Normalized Data : 0.2777777777777778\n"
     ]
    }
   ],
   "source": [
    "def min_max_narmalization(value, min_val, max_val):\n",
    "    normalized_data = (value - min_val)/ (max_val - min_val)\n",
    "    return normalized_data\n",
    "\n",
    "house_price = 350000\n",
    "min_price = 100000\n",
    "max_price = 1000000\n",
    "print(\"Original data : \", house_price, min_price, max_price)\n",
    "normalize_data =  min_max_narmalization(house_price, min_price, max_price)\n",
    "print(\"Normalized Data :\", normalize_data)"
   ]
  },
  {
   "cell_type": "code",
   "execution_count": null,
   "id": "1d84d7f5",
   "metadata": {},
   "outputs": [],
   "source": []
  }
 ],
 "metadata": {
  "kernelspec": {
   "display_name": "Python 3 (ipykernel)",
   "language": "python",
   "name": "python3"
  },
  "language_info": {
   "codemirror_mode": {
    "name": "ipython",
    "version": 3
   },
   "file_extension": ".py",
   "mimetype": "text/x-python",
   "name": "python",
   "nbconvert_exporter": "python",
   "pygments_lexer": "ipython3",
   "version": "3.11.5"
  }
 },
 "nbformat": 4,
 "nbformat_minor": 5
}
